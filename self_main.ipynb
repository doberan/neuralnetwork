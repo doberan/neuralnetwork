{
 "cells": [
  {
   "cell_type": "markdown",
   "id": "9249aa34",
   "metadata": {},
   "source": [
    "# 自前で順伝播と誤差逆伝播を実装する\n",
    "[参考資料](https://atmarkit.itmedia.co.jp/ait/articles/2202/09/news027.html)\n",
    "\n",
    "\n",
    "- [x] 本連載（基礎編）の目的\n",
    "  - [x] 本連載（基礎編）の特徴\n",
    "- [x] ニューラルネットワークの図\n",
    "- [x] 訓練（学習）処理全体の実装\n",
    "- [x] モデルの定義と、仮の訓練データ\n",
    "- [x] ステップ1. 順伝播の実装\n",
    "  - [x] 1つのノードにおける順伝播の処理\n",
    "  - [ ] 重み付き線形和\n",
    "  - [ ] 活性化関数：シグモイド関数\n",
    "  - [ ] 活性化関数：恒等関数\n",
    "  - [ ] 順伝播の処理全体の実装\n",
    "  - [ ] 順伝播による予測の実行例\n",
    "  - [ ] 今後のステップの準備：関数への仮引数の追加\n",
    "\n"
   ]
  },
  {
   "cell_type": "code",
   "execution_count": 1,
   "id": "f9d51493",
   "metadata": {},
   "outputs": [],
   "source": [
    "\n",
    "def forward_prop(cache_mode=False):\n",
    "    \" 順伝播を行う関数。\"\n",
    "    return None, None, None\n",
    "    pass\n",
    "\n",
    "# 正解値\n",
    "y_true = 1.0\n"
   ]
  },
  {
   "cell_type": "code",
   "execution_count": 2,
   "id": "2bc14980",
   "metadata": {},
   "outputs": [],
   "source": [
    "def back_prop(y_true, cached_outs, cached_sums):\n",
    "    \" 逆伝播を行う関数。\"\n",
    "    return None, None\n",
    "    pass\n"
   ]
  },
  {
   "cell_type": "code",
   "execution_count": 3,
   "id": "5c789a3f",
   "metadata": {},
   "outputs": [],
   "source": [
    "# 学習率（lr）\n",
    "LEARNING_RATE = 0.1\n",
    "\n",
    "def update_params(grads_w, grads_b, lr=0.1):\n",
    "    \" パラメータ（重みとバイアス）を更新する関数\"\n",
    "    return None, None\n",
    "    pass\n"
   ]
  },
  {
   "cell_type": "code",
   "execution_count": 4,
   "id": "403bedca",
   "metadata": {},
   "outputs": [],
   "source": [
    "# 訓練処理\n",
    "y_pred, cached_outs, cached_sums = forward_prop(cache_mode=True)\n",
    "grads_w, grads_b = back_prop(y_true, cached_outs, cached_sums)\n",
    "weights, biases = update_params(grads_w, grads_b, LEARNING_RATE)\n"
   ]
  },
  {
   "cell_type": "code",
   "execution_count": 5,
   "id": "20cc06da",
   "metadata": {},
   "outputs": [
    {
     "name": "stdout",
     "output_type": "stream",
     "text": [
      "予測値：None\n",
      "正解値：1.0\n"
     ]
    }
   ],
   "source": [
    "print(f'予測値：{y_pred}') # 予測値： None\n",
    "print(f'正解値：{y_true}') # 正解値： 1.0\n"
   ]
  },
  {
   "cell_type": "code",
   "execution_count": 6,
   "id": "852062bc",
   "metadata": {},
   "outputs": [],
   "source": [
    "# ニューラルネットワークは3層構成\n",
    "layers = [\n",
    "  2, # 入力層の入力（特徴量）の数\n",
    "  3, # 隠れ層1のノード（ニューロン）の数\n",
    "  1  # 出力層のノードの数\n",
    "]\n",
    "\n",
    "# 重みのバイアスの初期値\n",
    "weights = [\n",
    "  [[0.0, 0.0], [0.0, 0.0], [0.0, 0.0]], # 入力層→隠れ層1\n",
    "  [[0.0, 0.0, 0.0]] # 隠れ層1→出力層\n",
    "]\n",
    "biases = [\n",
    "  [0.0, 0.0, 0.0], # 隠れ層1\n",
    "  [0.0] # 出力層\n",
    "]\n",
    "\n",
    "# モデルを定義\n",
    "model = (layers, weights, biases)\n",
    "\n",
    "# 仮の訓練データ（1件分）を準備\n",
    "x = [0.05, 0.1] # x_1とx_2の２つの特徴量"
   ]
  },
  {
   "cell_type": "code",
   "execution_count": 7,
   "id": "169f6059",
   "metadata": {},
   "outputs": [],
   "source": [
    "# 取りあえず仮で、空の関数を定義して、コードが実行できるようにしておく\n",
    "def summation(x,weights, bias):\n",
    "    \" 重み付き線形和の関数。\"\n",
    "    return 0.0\n",
    "\n",
    "def sigmoid(x):\n",
    "    \" シグモイド関数。\"\n",
    "    return 0.0\n",
    "\n",
    "def identity(x):\n",
    "    \" 恒等関数。\"\n",
    "    return 0.0"
   ]
  },
  {
   "cell_type": "code",
   "execution_count": 8,
   "id": "f81ba345",
   "metadata": {},
   "outputs": [],
   "source": [
    "w = [0.0, 0.0]  # 重み（仮の値）\n",
    "b = 0.0  # バイアス（仮の値）\n",
    "\n",
    "next_x = x  # 訓練データをノードへの入力に使う\n",
    "\n",
    "# ---ここまでは仮の実装。ここからが必要な実装---\n",
    "\n",
    "# 1つのノードの処理（1）： 重み付き線形和\n",
    "node_sum = summation(next_x, w, b)\n",
    "\n",
    "# 1つのノードの処理（2）： 活性化関数\n",
    "is_hidden_layer = True\n",
    "if is_hidden_layer:\n",
    "    # 隠れ層（シグモイド関数）\n",
    "    node_out = sigmoid(node_sum)\n",
    "else:\n",
    "    # 出力層（恒等関数）\n",
    "    node_out = identity(node_sum)"
   ]
  }
 ],
 "metadata": {
  "kernelspec": {
   "display_name": "Python 3 (ipykernel)",
   "language": "python",
   "name": "python3"
  },
  "language_info": {
   "codemirror_mode": {
    "name": "ipython",
    "version": 3
   },
   "file_extension": ".py",
   "mimetype": "text/x-python",
   "name": "python",
   "nbconvert_exporter": "python",
   "pygments_lexer": "ipython3",
   "version": "3.9.7"
  }
 },
 "nbformat": 4,
 "nbformat_minor": 5
}
