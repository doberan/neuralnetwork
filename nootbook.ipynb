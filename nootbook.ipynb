{
 "cells": [
  {
   "cell_type": "markdown",
   "id": "71dc465f",
   "metadata": {},
   "source": []
  },
  {
   "cell_type": "markdown",
   "id": "4b62447f",
   "metadata": {},
   "source": [
    "# 使用データセット\n",
    "- [train set](https://pjreddie.com/media/files/mnist_train.csv)\n",
    "- [test set](https://pjreddie.com/media/files/mnist_test.csv)\n"
   ]
  },
  {
   "cell_type": "code",
   "execution_count": null,
   "id": "73511ef2",
   "metadata": {},
   "outputs": [],
   "source": [
    "import numpy\n",
    "# scipy.specialのインポート。シグモイド関数 expit() 利用のため\n",
    "import scipy.special\n",
    "import matplotlib.pyplot\n",
    "%matplotlib inline\n",
    "\n",
    "class neuralNetwork:\n",
    "    def __init__(self, inputnodes, hiddennodes, outputnodes, learningrate):\n",
    "        \"\"\"\n",
    "        ニューラルネットワークの初期化: 入力層、隠れ層および入力層の各層のノード数を設定する\n",
    "        \"\"\"\n",
    "        # 入力層、隠れ層、出力層のノード数の設定\n",
    "        self.inodes = inputnodes\n",
    "        self.hnodes = hiddennodes\n",
    "        self.onodes = outputnodes\n",
    "\n",
    "        # リンクの重み行列 wih と who\n",
    "        # 行列内の重み w_i_j, ノード i から次のそうのノードj へのリンクの重み\n",
    "        # w11 w21\n",
    "        # w12 w22 など\n",
    "        self.wih = numpy.random.normal(\n",
    "            0.0,\n",
    "            pow(self.hnodes, -0.5),\n",
    "            (self.hnodes, self.inodes))\n",
    "        self.who = numpy.random.normal(\n",
    "            0.0,\n",
    "            pow(self.onodes, -0.5),\n",
    "            (self.onodes, self.hnodes))\n",
    "\n",
    "        # 学習率の設定\n",
    "        self.lr = learningrate\n",
    "\n",
    "        # 活性化関数はシグモイド関数\n",
    "        self.activation_function = lambda x: scipy.special.expit(x)\n",
    "\n",
    "        pass\n",
    "\n",
    "    def train(self, inputs_list, targets_list):\n",
    "        \"\"\"\n",
    "        ニューラルネットワークの学習: 与えられた訓練データから重みを調整する\n",
    "        \"\"\"\n",
    "        # 入力リストを行列に変換\n",
    "        inputs = numpy.array(inputs_list, ndmin=2).T\n",
    "        targets = numpy.array(targets_list, ndmin=2).T\n",
    "\n",
    "        # 隠れ層に入ってくる信号の計算\n",
    "        hidden_inputs = numpy.dot(self.wih, inputs)\n",
    "        # 隠れ層で結合された信号を活性化関数により出力\n",
    "        hidden_outputs = self.activation_function(hidden_inputs)\n",
    "\n",
    "        # 出力層に入ってくる信号の計算\n",
    "        final_inputs = numpy.dot(self.who, hidden_outputs)\n",
    "        # 出力層で結合された信号を活性化関数により出力\n",
    "        final_outputs = self.activation_function(final_inputs)\n",
    "\n",
    "        # 出力層の誤差 = (目標出力 - 最終出力)\n",
    "        output_errors = targets - final_outputs\n",
    "        # 隠れ層の誤差は出力層の誤差をリンクの重みの割合で分配\n",
    "        hidden_errors = numpy.dot(self.who.T, output_errors)\n",
    "\n",
    "        # 隠れ層と出力層の間のリンクの重みを更新\n",
    "        self.who += self.lr * numpy.dot(\n",
    "                (output_errors * final_outputs * (1.0 - final_outputs)),\n",
    "                numpy.transpose(hidden_outputs))\n",
    "\n",
    "        # 入力層と隠れ層の間のリンクの重みを更新\n",
    "        self.wih += self.lr * numpy.dot(\n",
    "                (hidden_errors * hidden_outputs * (1.0 - hidden_outputs)),\n",
    "                numpy.transpose(inputs))\n",
    "        pass\n",
    "\n",
    "    def query(self, inputs_list):\n",
    "        \"\"\"\n",
    "        ニューラルネットワークへの照会: 与えられた入力に対する出力層からの答えを返す\n",
    "        \"\"\"\n",
    "        # 入力リストを行列に変換\n",
    "        inputs = numpy.array(inputs_list, ndmin=2).T\n",
    "\n",
    "        # 隠れ層に入ってくる信号の計算\n",
    "        hidden_inputs = numpy.dot(self.wih, inputs)\n",
    "        hidden_outputs = self.activation_function(hidden_inputs)\n",
    "\n",
    "        # 出力層に入ってくる信号の計算\n",
    "        final_inputs = numpy.dot(self.who, hidden_outputs)\n",
    "        # 出力層で結合された信号を活性化関数により出力\n",
    "        final_outputs = self.activation_function(final_inputs)\n",
    "\n",
    "        return final_outputs\n"
   ]
  },
  {
   "cell_type": "code",
   "execution_count": null,
   "id": "7865d952",
   "metadata": {},
   "outputs": [],
   "source": [
    "input_nodes = 784\n",
    "hidden_nodes = 100\n",
    "output_nodes = 10\n",
    "\n",
    "# 学習率 = 0.3\n",
    "learning_rate = 0.3\n",
    "# ニューラルネットワークのインスタンスの生成\n",
    "n = neuralNetwork(input_nodes, hidden_nodes, output_nodes, learning_rate)\n",
    "# MNIST 訓練データのCSVファイルを読み込んでリストにする\n",
    "training_data_file = open(\"mnist_dataset/mnist_train_100.csv\", 'r')\n",
    "training_data_list = training_data_file.readlines()\n",
    "training_data_file.close()\n",
    "\n",
    "# ニューラルネットワークの学習\n",
    "\n",
    "# 訓練データの全データに対して実行\n",
    "for record in training_data_list:\n",
    "  # データをコンマ ',' でsplit\n",
    "  all_values = record.split(',')\n",
    "  # 入力値のスケーリングとシフト\n",
    "  inputs = (numpy.asfarray(all_values[1:]) / 255.0 * 0.99) + 0.01\n",
    "  # 目標配列の生成（ラベルの位置が0.99 残りは0.01\n",
    "  targets = numpy.zeros(output_nodes) + 0.01\n",
    "  # all_valuesp[0] はこのデータのラベル\n",
    "  targets[int(all_values[0])] = 0.99\n",
    "  n.train(inputs, targets)\n",
    "  pass"
   ]
  },
  {
   "cell_type": "code",
   "execution_count": null,
   "id": "a8fe8097",
   "metadata": {},
   "outputs": [],
   "source": [
    "# MNIST テストデータのCSVファイルを読み込んでリストにする\n",
    "test_data_file = open(\"mnist_dataset/mnist_test.csv\", mode='r')\n",
    "test_data_list = test_data_file.readlines()\n",
    "test_data_file.close()"
   ]
  },
  {
   "cell_type": "code",
   "execution_count": null,
   "id": "1ba42575",
   "metadata": {},
   "outputs": [],
   "source": [
    "# テストデータセットの最初のデータを取得\n",
    "all_values = test_data_list[0].split(',')\n",
    "# ラベルを出力\n",
    "print(all_values[0])"
   ]
  },
  {
   "cell_type": "code",
   "execution_count": null,
   "id": "0660e7bc",
   "metadata": {},
   "outputs": [],
   "source": [
    "image_array = numpy.asfarray(all_values[1:]).reshape((28,28))\n",
    "matplotlib.pyplot.imshow(image_array, cmap='Greys', interpolation='None')"
   ]
  },
  {
   "cell_type": "code",
   "execution_count": null,
   "id": "9208a64e",
   "metadata": {},
   "outputs": [],
   "source": [
    "n.query(numpy.asfarray(all_values[1:]) / 255.0 * 0.99) + 0.01"
   ]
  },
  {
   "cell_type": "code",
   "execution_count": null,
   "id": "8928cd27",
   "metadata": {},
   "outputs": [],
   "source": [
    "scaled_input = (numpy.asfarray(all_values[1:]) / 255.0 * 0.99) + 0.01\n",
    "print(scaled_input)"
   ]
  },
  {
   "cell_type": "code",
   "execution_count": null,
   "id": "9677e7eb",
   "metadata": {},
   "outputs": [],
   "source": [
    "onodes = 10\n",
    "targets = numpy.zeros(onodes) + 0.01\n",
    "targets[int(all_values[0])] = 0.99"
   ]
  },
  {
   "cell_type": "code",
   "execution_count": null,
   "id": "b3b140ef",
   "metadata": {},
   "outputs": [],
   "source": [
    "print(targets)"
   ]
  },
  {
   "cell_type": "code",
   "execution_count": null,
   "id": "4960dda7",
   "metadata": {},
   "outputs": [],
   "source": [
    "# ニューラルネットワークのテスト\n",
    "\n",
    "# scorecard は判定のリスト、最初は空\n",
    "scorecard = []\n",
    "\n",
    "# テストデータの全てのデータに対して実行\n",
    "for record in test_data_list:\n",
    "  # データをコンマ ',' でsplit\n",
    "  all_values = record.split(',')\n",
    "  # 正解は配列の1番目\n",
    "  correct_label = int(all_values[0])\n",
    "  print(correct_label, \"correct label\")\n",
    "  # 入力値のスケーリングとシフト\n",
    "  inputs = (numpy.asfarray(all_values[1:]) / 255.0 * 0.99) + 0.01\n",
    "  # ネットワークへの照会\n",
    "  outputs = n.query(inputs)\n",
    "  label = numpy.argmax(outputs)\n",
    "  print(label, \"network's answer\")\n",
    "  # 正解(1), 間違い(0) をリストに追加\n",
    "  if (label == correct_label):\n",
    "    # 正解なら1 を追加\n",
    "    scorecard.append(1)\n",
    "  else:\n",
    "    scorecard.append(0)\n",
    "    pass\n",
    "  pass\n"
   ]
  },
  {
   "cell_type": "code",
   "execution_count": null,
   "id": "d14bba46",
   "metadata": {},
   "outputs": [],
   "source": [
    "print(scorecard)"
   ]
  },
  {
   "cell_type": "code",
   "execution_count": null,
   "id": "c5ae5a0b",
   "metadata": {},
   "outputs": [],
   "source": [
    "# 評価値（正解の割合）の計算\n",
    "scorecard_array = numpy.asarray(scorecard)\n",
    "print(\"performance = \", scorecard_array.sum() / scorecard_array.size)"
   ]
  },
  {
   "cell_type": "code",
   "execution_count": null,
   "id": "4aa2d5e8",
   "metadata": {},
   "outputs": [],
   "source": []
  }
 ],
 "metadata": {
  "kernelspec": {
   "display_name": "Python 3 (ipykernel)",
   "language": "python",
   "name": "python3"
  },
  "language_info": {
   "codemirror_mode": {
    "name": "ipython",
    "version": 3
   },
   "file_extension": ".py",
   "mimetype": "text/x-python",
   "name": "python",
   "nbconvert_exporter": "python",
   "pygments_lexer": "ipython3",
   "version": "3.9.7"
  }
 },
 "nbformat": 4,
 "nbformat_minor": 5
}
